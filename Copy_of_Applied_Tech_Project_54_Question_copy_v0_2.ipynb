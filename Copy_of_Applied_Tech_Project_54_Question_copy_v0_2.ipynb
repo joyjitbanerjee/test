{
  "nbformat": 4,
  "nbformat_minor": 0,
  "metadata": {
    "colab": {
      "provenance": [],
      "include_colab_link": true
    },
    "kernelspec": {
      "name": "python3",
      "display_name": "Python 3"
    }
  },
  "cells": [
    {
      "cell_type": "markdown",
      "metadata": {
        "id": "view-in-github",
        "colab_type": "text"
      },
      "source": [
        "<a href=\"https://colab.research.google.com/github/joyjitbanerjee/test/blob/main/Copy_of_Applied_Tech_Project_54_Question_copy_v0_2.ipynb\" target=\"_parent\"><img src=\"https://colab.research.google.com/assets/colab-badge.svg\" alt=\"Open In Colab\"/></a>"
      ]
    },
    {
      "cell_type": "markdown",
      "metadata": {
        "id": "UYmMpXkNw9I6"
      },
      "source": [
        "### Instructions"
      ]
    },
    {
      "cell_type": "markdown",
      "metadata": {
        "id": "PaanjkTewd2U"
      },
      "source": [
        "---"
      ]
    },
    {
      "cell_type": "markdown",
      "metadata": {
        "id": "64Zy490qzVsZ"
      },
      "source": [
        "#### Goal of the Project\n",
        "\n",
        "This project is designed for you to practice and solve the activities that are based on the concepts covered in the following lessons:\n",
        "\n",
        " 1. Classes and Objects\n",
        "\n",
        " 2. Inheritance"
      ]
    },
    {
      "cell_type": "markdown",
      "metadata": {
        "id": "8BgExNKi1khe"
      },
      "source": [
        "---"
      ]
    },
    {
      "cell_type": "markdown",
      "metadata": {
        "id": "fKQFPxBA5-a8"
      },
      "source": [
        "#### Getting Started:\n",
        "\n",
        "1. Click on this link to open the Colab file for this project.\n",
        "\n",
        "    https://colab.research.google.com/drive/1IYo2c9R9XgSEY2Ik86h_spkH44p8Daf7\n",
        "\n",
        "2. Create a duplicate copy of the Colab file as described below.\n",
        "\n",
        "  - Click on the **File menu**. A new drop-down list will appear.\n",
        "\n",
        "   <img src='https://student-datasets-bucket.s3.ap-south-1.amazonaws.com/images/lesson-0/0_file_menu.png' width=500>\n",
        "\n",
        "  - Click on the **Save a copy in Drive** option. A duplicate copy will get created. It will open up in the new tab on your web browser.\n",
        "\n",
        "  <img src='https://student-datasets-bucket.s3.ap-south-1.amazonaws.com/images/lesson-0/1_create_colab_duplicate_copy.png' width=500>\n",
        "\n",
        "3. After creating the duplicate copy of the notebook, please rename it in the **YYYY-MM-DD_StudentName_Project54** format.\n",
        "\n",
        "4. Now, write your code in the prescribed code cells.\n"
      ]
    },
    {
      "cell_type": "markdown",
      "metadata": {
        "id": "j0pZodG06HCD"
      },
      "source": [
        "---"
      ]
    },
    {
      "cell_type": "markdown",
      "metadata": {
        "id": "2i36Yv3-MPY5"
      },
      "source": [
        "### Problem Statement\n",
        "\n",
        "\n",
        "From the stone age till the electronic age we have used numerous ways of distance communication, one of them being **Mail Service**.\n",
        "\n",
        "Let's say you are building a Mailing Service Application which will allow you to send mails. These mails can be emails, physical mails, fax, etc.\n",
        "\n",
        "Every mail will have four things in common:\n",
        "1. Sender’s Address\n",
        "2. Receiver’s Address\n",
        "3. Subject\n",
        "4. Message\n",
        "\n",
        "Every type of mail possess some unique attributes like:\n",
        "* In a courier, you need the weight of the parcel.\n",
        "* In an email, you may have an Attachment.\n",
        "\n",
        "Let's build this application using Inheritance."
      ]
    },
    {
      "cell_type": "markdown",
      "metadata": {
        "id": "vYChcL-WMRFV"
      },
      "source": [
        "---"
      ]
    },
    {
      "cell_type": "markdown",
      "metadata": {
        "id": "toeLx5LJpIV-"
      },
      "source": [
        "### List of Activities\n",
        "\n",
        "**Activity 1:** Create a parent class `Mail`.\n",
        "\n",
        "  \n",
        "**Activity 2:** Create an object of the class `Mail`\n",
        "\n",
        "**Activity 3:** Create a child class `Post` which inherits from the parent class `Mail`.\n",
        "\n",
        "**Activity 4:** Create a child class `Email ` which inherits from its parent class `Mail`.\n"
      ]
    },
    {
      "cell_type": "markdown",
      "metadata": {
        "id": "5JRlGIBRqCGl"
      },
      "source": [
        "---"
      ]
    },
    {
      "cell_type": "markdown",
      "metadata": {
        "id": "j5RcICzZlJeZ"
      },
      "source": [
        "#### Activity 1: Create Parent Class `Mail`\n",
        "\n",
        "\n",
        "1. Create a class `Mail`. The constructor of this class must initialise the following variables:\n",
        "\n",
        " - `sender_add`: Address of the sender.\n",
        "\n",
        " - `receiver_add`: Address of the receiver.\n",
        "\n",
        " - `subject`: Context of the mail.\n",
        "\n",
        " - `message`: Message which needs to be communicated.\n",
        "\n",
        "\n",
        "2. Create a `__repr__()` function to print the above variables in a format as given in the example below:\n",
        "\n",
        "```\n",
        "To:     \tPrime Minister\n",
        "From:   \tState Minister\n",
        "Subject:\tHealth Policy\n",
        "Message:\tThis is regarding the Health Policy 2020\n",
        "```\n"
      ]
    },
    {
      "cell_type": "code",
      "metadata": {
        "id": "6RL71w3ntzcH"
      },
      "source": [
        "#  Create class 'Mail'. Add constructor\n",
        "class Mail:\n",
        "  def __init__(self,sender_add,reciever_add,subject,message):\n",
        "    self.sender_add=sender_add\n",
        "    self.reciever_add=reciever_add\n",
        "    self.subject=subject\n",
        "    self.message=message\n",
        "  def __repr__(self):\n",
        "    #return \"To\",self.sender_add,\"\\nFrom\",self.reciever_add,\"\\nsubject\",self.subject,\"\\nMessage\",self.message\n",
        "    return (f'{self.sender_add},{self.reciever_add},{self.subject},{self.message}')\n",
        "\n",
        "\n",
        "  # Create a __repr__ to return the properties of a mail\n",
        "\n",
        "\n",
        "\n"
      ],
      "execution_count": null,
      "outputs": []
    },
    {
      "cell_type": "markdown",
      "metadata": {
        "id": "RETr5Tv1JBls"
      },
      "source": [
        "---"
      ]
    },
    {
      "cell_type": "markdown",
      "metadata": {
        "id": "z1v1uCgTXOj0"
      },
      "source": [
        "#### Activity 2: Create an Object of `Mail` Class\n",
        "\n",
        "Create an object of `Mail` class and display the attributes  using the object"
      ]
    },
    {
      "cell_type": "code",
      "metadata": {
        "id": "cHEBBL8JOymV",
        "colab": {
          "base_uri": "https://localhost:8080/"
        },
        "outputId": "d1270cdf-0a3c-4ee1-a853-b77984fb445d"
      },
      "source": [
        "# Create an object of 'Mail' class and print its properties\n",
        "m1=Mail(\"Prime Minister\",\"State Minister\",\"Health Policy\",\"This is regarding the Health Policy 2020\")\n",
        "m1\n",
        "\n"
      ],
      "execution_count": null,
      "outputs": [
        {
          "output_type": "execute_result",
          "data": {
            "text/plain": [
              "Prime Minister,State Minister,Health Policy,This is regarding the Health Policy 2020"
            ]
          },
          "metadata": {
            "tags": []
          },
          "execution_count": 11
        }
      ]
    },
    {
      "cell_type": "markdown",
      "metadata": {
        "id": "TjVfq3s_G8Z8"
      },
      "source": [
        "---"
      ]
    },
    {
      "cell_type": "markdown",
      "metadata": {
        "id": "J2x0URlDJrZH"
      },
      "source": [
        "#### Activity 3: Create a Child Class `Post`\n",
        "\n",
        "\n",
        "1. Create a child class `Post` which inherits from the parent class `Mail`. In addition to the properties of the parent class, the constructor of this class must initialise the following properties:\n",
        "\n",
        "  - `mode_of_transit`: Transport method. It can have only one of the three values:\n",
        "\n",
        "     * Waterways\n",
        "     * Roadways\n",
        "     * Airways\n",
        "\n",
        "  - `delivery_time`: Time taken to deliver the post. It is initially set to `None`.\n",
        "\n",
        "  \n",
        "2. Create the following function inside the child class:\n",
        "\n",
        "  -  `calculate_delivery_time()`: This function determines the `delivery_time` based on the following conditions:\n",
        "\n",
        "     * If `mode_of_transit` is Airways, then `delivery_time` will be \"In 5 working days\".\n",
        "     * If `mode_of_transit` is Roadways, then `delivery_time` will be \"In 15 working days\".\n",
        "     * If `mode_of_transit` is Waterways, then `delivery_time` will be \"In 10-15 working days\".\n",
        "\n",
        "      .\n",
        "\n",
        "  - Create a `__repr__()` function to print the message in a format as given in the example below:\n",
        "```\n",
        "To:     \t      Prime Minister\n",
        "From:   \t      State Minister\n",
        "Subject:\t      Health Policy\n",
        "Message:\t      This is regarding the Health Policy 2020\n",
        "Transit Mode: \tAirways\n",
        "Delivery Time: \tIn 5 working days\n",
        "```\n",
        "3. Create an object of this class and pass the desired values as parameters to its constructor."
      ]
    },
    {
      "cell_type": "code",
      "metadata": {
        "id": "IjwoVwylMHpY",
        "colab": {
          "base_uri": "https://localhost:8080/"
        },
        "outputId": "a9b881b7-8820-4967-9bf6-c14730d04bcb"
      },
      "source": [
        "# Create child class 'Post' of the parent class 'Mail' and create the object of the child class and determine the delivery time\n",
        "class Post(Mail):\n",
        "  def __init__(self,sender_add,reciever_add,subject,message,mode_of_transit,delivery_time=None):\n",
        "    super().__init__(sender_add,reciever_add,subject,message)\n",
        "    self.mode_of_transit=mode_of_transit\n",
        "    self.delivery_time=delivery_time\n",
        "  def calculate_delievery_time(self):\n",
        "    if  self.mode_of_transit==\"Airways\":\n",
        "      print(\"5 days\")\n",
        "    elif  self.mode_of_transit==\"Roadways\":\n",
        "      print(\"15 days\")\n",
        "    elif  self.mode_of_transit==\"Waterways\":\n",
        "      print(\"10_15 days\")\n",
        "  def __repr__(self):\n",
        "    return (f'\"\\nTo\"{self.sender_add},\"\\nfrom\"{self.reciever_add},\"\\nsubject\"{self.subject},\"\\nmessage\"{self.message},\"\\ntransit mode\",{self.mode_of_transit},\"\\ndelievery time\",{self.delivery_time}')\n",
        "\n",
        "p1=Post(\"Prime Minister\",\"State Minister\",\"Health Policy\",\"This is regarding the Health Policy 2020\",\"Roadways\")\n",
        "p1\n",
        "\n"
      ],
      "execution_count": null,
      "outputs": [
        {
          "output_type": "execute_result",
          "data": {
            "text/plain": [
              "\"\n",
              "To\"Prime Minister,\"\n",
              "from\"State Minister,\"\n",
              "subject\"Health Policy,\"\n",
              "message\"This is regarding the Health Policy 2020,\"\n",
              "transit mode\",Roadways,\"\n",
              "delievery time\",None"
            ]
          },
          "metadata": {
            "tags": []
          },
          "execution_count": 16
        }
      ]
    },
    {
      "cell_type": "markdown",
      "metadata": {
        "id": "lBZS4GAudWGJ"
      },
      "source": [
        "---"
      ]
    },
    {
      "cell_type": "markdown",
      "metadata": {
        "id": "gvjSeGubj4X5"
      },
      "source": [
        "#### Activity 4: Create a Child Class `Email`\n",
        "\n",
        "\n",
        "1. Create a child class `Email` which inherits from the parent class `Mail`. In addition to the properties of the parent class, the constructor of this class must initialise the following properties:\n",
        "\n",
        "  - `status`: The status of the sent email. It can have any one of the following values:\n",
        "  \n",
        "    * Draft\n",
        "    * Sent\n",
        "\n",
        "\n",
        "\n",
        "  \n",
        "2. Create the following functions inside the child class:\n",
        "\n",
        "  - `update_message()`: A function which will update the `message` variable. If the `status` of the email is `Draft`, then update the `message` variable with the new message passed as a parameter to this function else print **\"Message already sent. Update not possible\"**\n",
        "\n",
        " 2. Create a `__repr__()` function to print the message in a format as given in the example below:\n",
        "```\n",
        "To:     \tPrime Minister\n",
        "From:   \tState Minister\n",
        "Subject:\tHealth Policy\n",
        "Message:\tPolicy 2020\n",
        "Status: \tDraft\n",
        "```\n",
        "3. Create an object of this class and pass the desired values as parameters to its constructor."
      ]
    },
    {
      "cell_type": "code",
      "metadata": {
        "id": "fhZrarNohg47",
        "colab": {
          "base_uri": "https://localhost:8080/"
        },
        "outputId": "0143d420-03c5-4fa3-f427-f22c864a06bb"
      },
      "source": [
        "# Create child class 'Email' of the parent class 'Mail'. Create the object of the child class and update an existing draft.\n",
        "class Email(Mail):\n",
        "  def __init__(self,sender_add,reciever_add,subject,message,status):\n",
        "    super().__init__(sender_add,reciever_add,subject,message)\n",
        "    self.status=status\n",
        "  def update_message(self,new_message):\n",
        "    if self.status==\"Draft\":\n",
        "      self.message=new_message\n",
        "    else:\n",
        "      print( \"Message already sent. Update not possible\")\n",
        "  def __repr__(self):\n",
        "    return(f'\"\\nTo\",{self.sender_add},\"\\nFrom\",{self.reciever_add},\"\\nsubject\",{self.subject},\"\\nMessage\",{self.message},\"\\nstatus\",{self.status}')\n",
        "ob1=Email(\"Prime Minister\",\"State Minister\",\"Health Policy\",\"This is regarding the Health Policy 2020\",\"Draft\")\n",
        "ob1\n",
        "ob1.update_message(\"policy 2020\")\n",
        "print(ob1)\n"
      ],
      "execution_count": null,
      "outputs": [
        {
          "output_type": "stream",
          "text": [
            "\"\n",
            "To\",Prime Minister,\"\n",
            "From\",State Minister,\"\n",
            "subject\",Health Policy,\"\n",
            "Message\",policy 2020,\"\n",
            "status\",Draft\n"
          ],
          "name": "stdout"
        }
      ]
    },
    {
      "cell_type": "markdown",
      "metadata": {
        "id": "RUsA5NIJatRo"
      },
      "source": [
        "---"
      ]
    },
    {
      "cell_type": "markdown",
      "metadata": {
        "id": "rWgBs2kh6K-O"
      },
      "source": [
        "### Submitting the Project:\n",
        "\n",
        "1. After finishing the project, click on the **Share** button on the top right corner of the notebook. A new dialog box will appear.\n",
        "\n",
        "  <img src='https://student-datasets-bucket.s3.ap-south-1.amazonaws.com/images/project-share-images/2_share_button.png' width=500>\n",
        "\n",
        "2. In the dialog box, make sure that '**Anyone on the Internet with this link can view**' option is selected and then click on the **Copy link** button.\n",
        "\n",
        "   <img src='https://student-datasets-bucket.s3.ap-south-1.amazonaws.com/images/project-share-images/3_copy_link.png' width=500>\n",
        "\n",
        "3. The link of the duplicate copy (named as **YYYY-MM-DD_StudentName_Project54**) of the notebook will get copied\n",
        "\n",
        "   <img src='https://student-datasets-bucket.s3.ap-south-1.amazonaws.com/images/project-share-images/4_copy_link_confirmation.png' width=500>\n",
        "\n",
        "4. Go to your dashboard and click on the **My Projects** option.\n",
        "   \n",
        "   <img src='https://student-datasets-bucket.s3.ap-south-1.amazonaws.com/images/project-share-images/5_student_dashboard.png' width=800>\n",
        "\n",
        "  <img src='https://student-datasets-bucket.s3.ap-south-1.amazonaws.com/images/project-share-images/6_my_projects.png' width=800>\n",
        "\n",
        "5. Click on the **View Project** button for the project you want to submit.\n",
        "\n",
        "   <img src='https://student-datasets-bucket.s3.ap-south-1.amazonaws.com/images/project-share-images/7_view_project.png' width=800>\n",
        "\n",
        "6. Click on the **Submit Project Here** button.\n",
        "\n",
        "   <img src='https://student-datasets-bucket.s3.ap-south-1.amazonaws.com/images/project-share-images/8_submit_project.png' width=800>\n",
        "\n",
        "7. Paste the link to the project file named as **YYYY-MM-DD_StudentName_Project54** in the URL box and then click on the **Submit** button.\n",
        "\n",
        "   <img src='https://student-datasets-bucket.s3.ap-south-1.amazonaws.com/images/project-share-images/9_enter_project_url.png' width=800>"
      ]
    },
    {
      "cell_type": "markdown",
      "metadata": {
        "id": "dH4YudMy6RgC"
      },
      "source": [
        "---"
      ]
    }
  ]
}