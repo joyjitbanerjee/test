{
  "nbformat": 4,
  "nbformat_minor": 0,
  "metadata": {
    "colab": {
      "provenance": [],
      "include_colab_link": true
    },
    "kernelspec": {
      "name": "python3",
      "display_name": "Python 3"
    },
    "language_info": {
      "name": "python"
    }
  },
  "cells": [
    {
      "cell_type": "markdown",
      "metadata": {
        "id": "view-in-github",
        "colab_type": "text"
      },
      "source": [
        "<a href=\"https://colab.research.google.com/github/joyjitbanerjee/test/blob/main/Copy_of_2021_10_24_Lesson_95_Joyjit_Banerjee.ipynb\" target=\"_parent\"><img src=\"https://colab.research.google.com/assets/colab-badge.svg\" alt=\"Open In Colab\"/></a>"
      ]
    },
    {
      "cell_type": "markdown",
      "metadata": {
        "id": "2zKfD5teVlHx"
      },
      "source": [
        "# Lesson 95 -  Streamlit Widgets II"
      ]
    },
    {
      "cell_type": "markdown",
      "metadata": {
        "id": "wdwT65byXA4A"
      },
      "source": [
        "### Teacher-Student Activities\n",
        "\n",
        "In the previous class, we started building a web app implementing a multiclass classification model capable of predicting the glass type. Conitnuing from the same class, we will explore few Streamlit widgets useful for displaying various charts and plots such as line charts, pie charts, area charts, count plots etc, which helps us to explore the dataset and provides us with some useful information.\n",
        "\n",
        "Today, we will also add more functionalities to this glass-type prediction model wherein the user will be able to select the algorithm on which the model should be built and will also be able to optimise different model parameters to obtain a more accurate model.\n",
        "\n",
        "Let's quickly go through the activities covered in the previous class and begin this class from **Activity 1: Displaying Charts** section.\n",
        "\n",
        "\n"
      ]
    },
    {
      "cell_type": "markdown",
      "metadata": {
        "id": "N2y29RJxvwn5"
      },
      "source": [
        "---"
      ]
    },
    {
      "cell_type": "markdown",
      "metadata": {
        "id": "427AbCTyvxSD"
      },
      "source": [
        "#### Problem statement\n",
        "\n",
        "Recall the glass-type classification that you had performed in one of your previous classes wherein you classified different types of glasses based on their chemical and physical composition.\n",
        "\n",
        "**Dataset Description:**\n",
        "\n",
        "The dataset used in this problem statement involves the classification of samples of different glasses based on their physical and chemical properties. They are as follows:\n",
        "\n",
        "1. **RI:** Refractive Index\n",
        "\n",
        "2. **Na:** Sodium\n",
        "\n",
        "3. **Mg:** Magnesium\n",
        "\n",
        "4. **Al:** Aluminum\n",
        "\n",
        "5. **Si:** Silicon\n",
        "\n",
        "6. **K:** Potassium\n",
        "\n",
        "7. **Ca:** Calcium\n",
        "\n",
        "8. **Ba:** Barium\n",
        "\n",
        "9. **Fe:** Iron\n",
        "\n",
        "\n",
        "There are seven types (classes or labels) of glass listed; they are:\n",
        "\n",
        "* **Class 1:** used for making building windows (float processed)\n",
        "\n",
        "* **Class 2:** used for making building windows (non-float processed)\n",
        "\n",
        "* **Class 3:** used for making vehicle windows (float processed)\n",
        "\n",
        "* **Class 4:** used for making vehicle windows (non-float processed)\n",
        "\n",
        "* **Class 5:** used for making containers\n",
        "\n",
        "* **Class 6:** used for making tableware\n",
        "\n",
        "* **Class 7:** used for making headlamps\n",
        "\n",
        "\n",
        "**Dataset Credits:** https://archive.ics.uci.edu/ml/datasets/Glass+Identification\n",
        "\n",
        "\n",
        "**Citation:** Dua, D., & Graff, C.. (2017). UCI Machine Learning Repository\n",
        "\n",
        "\n",
        "\n",
        "\n"
      ]
    },
    {
      "cell_type": "markdown",
      "metadata": {
        "id": "r3UbNRvy6li7"
      },
      "source": [
        "---"
      ]
    },
    {
      "cell_type": "markdown",
      "metadata": {
        "id": "JCdhA1isIN4N"
      },
      "source": [
        "#### Importing modules and Loading Data\n",
        "\n",
        "\n",
        "\n",
        "\n",
        "First create a python file `glass_type_app.py` in Sublime editor and save it in `Python_scripts` folder created earlier. Copy the code given below in `glass_type_app.py` file.\n",
        "\n",
        "The code given below performs the following tasks: *(Learnt in  **Logistic Regression - Multiclass Classification I**)*\n",
        "1. Imports necessary libraries including the `streamlit`.\n",
        "2. Drops unnecessary columns and  provides suitable column headers to the independent variables.\n",
        "\n",
        "3. Creates feature DataFrame and target variables.\n",
        "4. Splits the dataset into train and test sets using the `train_test_split()` function.\n",
        "\n",
        "\n",
        "**Note:** Do not run the code shown below. It will thrown an error.\n"
      ]
    },
    {
      "cell_type": "code",
      "metadata": {
        "id": "wN4XC8-QKLzR"
      },
      "source": [
        "# Open Sublime text editor, create a new Python file, copy the following code in it and save it as 'glass_type_app.py'.\n",
        "# You have already created this ML model in ones of the previous classes.\n",
        "\n",
        "# Importing the necessary Python modules.\n",
        "import numpy as np\n",
        "import pandas as pd\n",
        "import streamlit as st\n",
        "import seaborn as sns\n",
        "import matplotlib.pyplot as plt\n",
        "\n",
        "from sklearn.model_selection import train_test_split, GridSearchCV\n",
        "from sklearn.metrics import plot_confusion_matrix, plot_roc_curve, plot_precision_recall_curve\n",
        "from sklearn.metrics import precision_score, recall_score\n",
        "\n",
        "# ML classifier Python modules\n",
        "from sklearn.svm import SVC\n",
        "from sklearn.ensemble import RandomForestClassifier\n",
        "from sklearn.linear_model import LogisticRegression\n",
        "\n",
        "# Loading the dataset.\n",
        "@st.cache()\n",
        "def load_data():\n",
        "    file_path = \"glass-types.csv\"\n",
        "    df = pd.read_csv(file_path, header = None)\n",
        "    # Dropping the 0th column as it contains only the serial numbers.\n",
        "    df.drop(columns = 0, inplace = True)\n",
        "    column_headers = ['RI', 'Na', 'Mg', 'Al', 'Si', 'K', 'Ca', 'Ba', 'Fe', 'GlassType']\n",
        "    columns_dict = {}\n",
        "    # Renaming columns with suitable column headers.\n",
        "    for i in df.columns:\n",
        "        columns_dict[i] = column_headers[i - 1]\n",
        "        # Rename the columns.\n",
        "        df.rename(columns_dict, axis = 1, inplace = True)\n",
        "    return df\n",
        "\n",
        "glass_df = load_data()\n",
        "\n",
        "# Creating the features data-frame holding all the columns except the last column.\n",
        "X = glass_df.iloc[:, :-1]\n",
        "\n",
        "# Creating the target series that holds last column.\n",
        "y = glass_df['GlassType']\n",
        "\n",
        "# Spliting the data into training and testing sets.\n",
        "X_train, X_test, y_train, y_test = train_test_split(X, y, test_size = 0.3, random_state = 42)"
      ],
      "execution_count": null,
      "outputs": []
    },
    {
      "cell_type": "markdown",
      "metadata": {
        "id": "ejsTwxVzRuFV"
      },
      "source": [
        "**Note:** You have to store the `glass-types.csv` file in your computer in the same folder that contains the above Python script. You can download the `glass-types.csv` file from the link provided below.\n",
        "\n",
        "https://student-datasets-bucket.s3.ap-south-1.amazonaws.com/whitehat-ds-datasets/glass-types.csv\n",
        "\n",
        "\n",
        "In the above code, we encapsulated some part of the code inside a function `load_data()` and added `st.cache()` decorator at the start of this function. Let us understand why?\n",
        "\n",
        "**The `st.cache()` decorator:**\n",
        "\n",
        "- Each time when you rerun your Streamlit app or change any widget value, the whole app runs from start to end.\n",
        "- This is not feasible when we create complicated machine learning apps as it will consume lot of time in rerunning the entire app.\n",
        "- Streamlit provides a functionality called **caching**, where data is not loaded each time when the app is loaded. Instead the data is loaded from the local cache (a temporary storage location on your machine). This saves cpu cycles and memory time, thereby improving the performance of your web app.\n",
        "\n",
        "\n",
        "In our case, we added `@st.cache()` decorator at the start of `load_data()` function as this part of code will not change more often."
      ]
    },
    {
      "cell_type": "markdown",
      "metadata": {
        "id": "HBTjlfDWjysD"
      },
      "source": [
        "---"
      ]
    },
    {
      "cell_type": "markdown",
      "metadata": {
        "id": "eq_EY2YbkNJU"
      },
      "source": [
        "#### Adding `prediction()` Function\n",
        "\n",
        "As done in the previous class, let us add a function, say `prediction()`, that will predict the type of glass for every unique combination of `RI`, `Na`, `Mg`, `Al`, `Si`, `K`, `Ca`, `Ba` and `Fe` values.\n",
        "\n",
        "1. The `prediction()` function takes 10 inputs:\n",
        "\n",
        "  - `model` (It holds the algorithm chosen by user)\n",
        "  - `RI`\n",
        "  - `Na`\n",
        "  - `Mg`\n",
        "  - `Al`\n",
        "  - `Si`\n",
        "  - `K`\n",
        "  - `Ca`\n",
        "  - `Ba`\n",
        "  - `Fe`\n",
        "\n",
        "2. Inside the `prediction()` function:\n",
        "\n",
        "  - Call the `predict()` function on the `model` object.\n",
        "   \n",
        "  - The `predict()` function returns an array containing a single-digit integer value that would be either 1, 2, 3, 5, 6 or 7 where\n",
        "    \n",
        "    - `1` denotes the glass used for making building windows (float processed) i.e `building windows float processed`\n",
        "    \n",
        "    - `2` denotes the glass used for making building windows (non-float processed) i.e. `building windows non float processed`\n",
        "    \n",
        "    - `3` denotes the glass used for making vehicle windows (float processed) i.e. `vehicle windows float processed`\n",
        "    \n",
        "    - `4` denotes the glass used for making vehicle windows (non-float processed) i.e. `vehicle windows non float processed`\n",
        "    \n",
        "    - `5` denotes the glass used for making containers i.e. `containers`\n",
        "    \n",
        "    - `6` denotes the glass used for making tableware i.e. `tableware`\n",
        "    \n",
        "    - `7` denotes the glass used for making headlamps i.e. `headlamps`\n",
        "\n",
        "    **Note:** There are no records for the glass-type `6` in the dataset. Nevertheless, we are still accounting for it in our code.\n",
        "   \n",
        "  - Extract the integer value using the indexing method i.e. `array_name[0]` and store it in the `glass_type` variable.\n",
        "\n",
        "  - Return the type of glass by checking the value of `type` variable i.e.,\n",
        "  \n",
        "    - If `glass_type == 1`, then return `\"building windows float processed\"`\n",
        "  \n",
        "    - Else if `glass_type == 2`, then return `\"building windows non float processed\"`\n",
        "\n",
        "    - Else if `glass_type == 3`, then return `\"vehicle windows float processed\"`\n",
        "\n",
        "    - Else if `glass_type == 4`, then return `\"vehicle windows non float processed\"`\n",
        "\n",
        "    - Else if `glass_type == 5`, then return `\"containers\"`\n",
        "\n",
        "    - Else if `glass_type == 6`, then return `\"tableware\"`\n",
        "  \n",
        "    - Else return `\"headlamp\"`\n",
        "\n",
        "3. Also mark the `prediction()` function with Streamlit decorator `@st.cache()`.\n",
        "\n",
        "**Note:** Do not run the code shown below. It will thrown an error."
      ]
    },
    {
      "cell_type": "code",
      "metadata": {
        "id": "Ud0iX5U_nJrJ"
      },
      "source": [
        "# Create a function that accepts an ML model object say 'model' and the nine features as inputs\n",
        "# and returns the glass type.\n",
        "@st.cache()\n",
        "def prediction(model, ri, na, mg, al, si, k, ca, ba, fe):\n",
        "    glass_type = model.predict([[ri, na, mg, al, si, k, ca, ba, fe]])\n",
        "    glass_type = glass_type[0]\n",
        "    if glass_type == 1:\n",
        "        return \"building windows float processed\".upper()\n",
        "    elif glass_type == 2:\n",
        "        return \"building windows non float processed\".upper()\n",
        "    elif glass_type == 3:\n",
        "        return \"vehicle windows float processed\".upper()\n",
        "    elif glass_type == 4:\n",
        "        return \"vehicle windows non float processed\".upper()\n",
        "    elif glass_type == 5:\n",
        "        return \"containers\".upper()\n",
        "    elif glass_type == 6:\n",
        "        return \"tableware\".upper()\n",
        "    else:\n",
        "        return \"headlamps\".upper()"
      ],
      "execution_count": null,
      "outputs": []
    },
    {
      "cell_type": "markdown",
      "metadata": {
        "id": "6kZHMjgDUFkQ"
      },
      "source": [
        "Next step is to add some Streamlit code for creating our front-end."
      ]
    },
    {
      "cell_type": "markdown",
      "metadata": {
        "id": "9fXicaY6tpXL"
      },
      "source": [
        "---"
      ]
    },
    {
      "cell_type": "markdown",
      "metadata": {
        "id": "eF8WNL5ZycxB"
      },
      "source": [
        "#### Displaying Title and Sidebar Title\n",
        "\n",
        "Now it is time to add Streamlit widgets one by one. Let us add a title and the sidebar title for our Streamlit dashboard. This can be done using the `st.title()` and `st.sidebar.title()` functions.\n",
        "\n",
        "**Syntax:** `st.title(some_title)`\n",
        "\n",
        "\n"
      ]
    },
    {
      "cell_type": "code",
      "metadata": {
        "id": "MgFTf_-icgdv"
      },
      "source": [
        "# Add title on the main page and in the sidebar.\n",
        "st.title(\"Glass Type prediction Web app\")\n",
        "st.sidebar.title(\"Glass Type prediction Web app\")"
      ],
      "execution_count": null,
      "outputs": []
    },
    {
      "cell_type": "markdown",
      "metadata": {
        "id": "pW2dMLIFg5S5"
      },
      "source": [
        "After adding the above code, run your web app using the following command:\n",
        "\n",
        "`streamlit run glass_type_app.py`\n",
        "\n",
        "You will see the following output:\n",
        "\n",
        "<center><img src=\"https://s3-whjr-v2-prod-bucket.whjr.online/4b952189-b75d-4c1a-aa0a-ff154444a7d9.PNG\"></center>\n",
        "\n",
        "If you notice in the image above, anything we call with the sidebar object will appear in the left-hand side of the web page.\n",
        "\n",
        "**Important points about `st.sidebar`:**\n",
        "\n",
        "- It is used to give a cleaner look to your app by moving your widgets into the left-hand side of your screen. This keeps your app at the centre, while the widgets are pinned to the left.\n",
        "\n",
        "- The syntax for adding any widget to the sidebar is `st.sidebar.[widget]()`\n",
        "   \n",
        "  For example: `st.sidebar.title()`, `st.sidebar.checkbox()`, `st.sidebar.slider()` etc.\n",
        "\n",
        "**Note:** For the upcoming activities, keep appending the code in the `glass_type_app.py` file using the Sublime editor and then rerun your app on your local machine.\n",
        "  "
      ]
    },
    {
      "cell_type": "markdown",
      "metadata": {
        "id": "NXloIT4Ityzq"
      },
      "source": [
        "---"
      ]
    },
    {
      "cell_type": "markdown",
      "metadata": {
        "id": "fjTtE0VLt0Tb"
      },
      "source": [
        "#### Displaying Raw Data\n",
        "\n",
        "You can display the dataset in raw form using `st.dataframe()` function.\n",
        "\n",
        "**Syntax:** `st.dataframe(data)` where `data` is the pandas DataFrame object.\n",
        "\n",
        " You can even display your dataset using `st.write()` function as follows:\n",
        "    \n",
        "   `st.write(data)`\n",
        "\n",
        "Let us also add a checkbox widget in the sidebar to display the glass-type `glass_df` DataFrame only when this checkbox is clicked. It should look like this:\n",
        "\n",
        "<center>\n",
        "<img src=\"https://s3-whjr-v2-prod-bucket.whjr.online/0b3bf6a9-8362-40ef-a0f4-c88cf5450a4f.PNG\"/> </center>\n",
        "\n",
        "**Syntax:** `st.checkbox(label)`\n",
        "\n",
        "To add the checkbox in the sidebar, simply use `st.sidebar.checkbox()` instead of `st.checkbox()`.\n",
        "\n",
        "When the user clicks on the checkbox labeled **`Show raw data`**,  \n",
        "- Display a subheader on the main page with a label `\"Glass Type Data set\"` using `st.subheader()` function.\n",
        "\n",
        "  **Syntax: `st.subheader(some_text)`**\n",
        "- Below the subheader, display raw data using `st.dataframe()` function.\n",
        "\n",
        "**Note:** Don't run the code shown below. It will throw an error."
      ]
    },
    {
      "cell_type": "code",
      "metadata": {
        "id": "O8Phav8OBtl_"
      },
      "source": [
        "# Using if statement, display raw data on the click of the checkbox.\n",
        "if st.sidebar.checkbox(\"Show raw data\"):\n",
        "    st.subheader(\"Glass Type Data set\")\n",
        "    st.dataframe(glass_df)"
      ],
      "execution_count": null,
      "outputs": []
    },
    {
      "cell_type": "markdown",
      "metadata": {
        "id": "DFAE-TJRLJI6"
      },
      "source": [
        "After running the app , it can be visualised as below:\n",
        "\n",
        "<img src=\"https://s3-whjr-v2-prod-bucket.whjr.online/cdbfb5a1-fdaa-4505-b4ba-ea714733111c.PNG\"/>\n",
        "\n",
        "\n"
      ]
    },
    {
      "cell_type": "markdown",
      "metadata": {
        "id": "6c1gcyzXSx3w"
      },
      "source": [
        "After displaying the raw data, let us visualise the dataset by displaying various charts and plots."
      ]
    },
    {
      "cell_type": "markdown",
      "metadata": {
        "id": "_O8hIOMkC3UY"
      },
      "source": [
        "**LAST CLASS CODE**"
      ]
    },
    {
      "cell_type": "code",
      "metadata": {
        "id": "aY4RQrQmBBGK"
      },
      "source": [
        "# Open Sublime text editor, create a new Python file, copy the following code in it and save it as 'glass_type_app.py'.\n",
        "# You have already created this ML model in ones of the previous classes.\n",
        "\n",
        "# Importing the necessary Python modules.\n",
        "import numpy as np\n",
        "import pandas as pd\n",
        "import streamlit as st\n",
        "import seaborn as sns\n",
        "import matplotlib.pyplot as plt\n",
        "\n",
        "from sklearn.model_selection import train_test_split, GridSearchCV\n",
        "from sklearn.metrics import plot_confusion_matrix, plot_roc_curve, plot_precision_recall_curve\n",
        "from sklearn.metrics import precision_score, recall_score\n",
        "\n",
        "# ML classifier Python modules\n",
        "from sklearn.svm import SVC\n",
        "from sklearn.ensemble import RandomForestClassifier\n",
        "from sklearn.linear_model import LogisticRegression\n",
        "\n",
        "# Loading the dataset.\n",
        "@st.cache()\n",
        "def load_data():\n",
        "    file_path = \"glass-types.csv\"\n",
        "    df = pd.read_csv(file_path, header = None)\n",
        "    # Dropping the 0th column as it contains only the serial numbers.\n",
        "    df.drop(columns = 0, inplace = True)\n",
        "    column_headers = ['RI', 'Na', 'Mg', 'Al', 'Si', 'K', 'Ca', 'Ba', 'Fe', 'GlassType']\n",
        "    columns_dict = {}\n",
        "    # Renaming columns with suitable column headers.\n",
        "    for i in df.columns:\n",
        "        columns_dict[i] = column_headers[i - 1]\n",
        "        # Rename the columns.\n",
        "        df.rename(columns_dict, axis = 1, inplace = True)\n",
        "    return df\n",
        "\n",
        "glass_df = load_data()\n",
        "\n",
        "# Creating the features data-frame holding all the columns except the last column.\n",
        "X = glass_df.iloc[:, :-1]\n",
        "\n",
        "# Creating the target series that holds last column.\n",
        "y = glass_df['GlassType']\n",
        "\n",
        "# Spliting the data into training and testing sets.\n",
        "X_train, X_test, y_train, y_test = train_test_split(X, y, test_size = 0.3, random_state = 42)\n",
        "\n",
        "# Create a function that accepts an ML model object say 'model' and the nine features as inputs\n",
        "# and returns the glass type.\n",
        "@st.cache()\n",
        "def prediction(model, ri, na, mg, al, si, k, ca, ba, fe):\n",
        "    glass_type = model.predict([[ri, na, mg, al, si, k, ca, ba, fe]])\n",
        "    glass_type = glass_type[0]\n",
        "    if glass_type == 1:\n",
        "        return \"building windows float processed\".upper()\n",
        "    elif glass_type == 2:\n",
        "        return \"building windows non float processed\".upper()\n",
        "    elif glass_type == 3:\n",
        "        return \"vehicle windows float processed\".upper()\n",
        "    elif glass_type == 4:\n",
        "        return \"vehicle windows non float processed\".upper()\n",
        "    elif glass_type == 5:\n",
        "        return \"containers\".upper()\n",
        "    elif glass_type == 6:\n",
        "        return \"tableware\".upper()\n",
        "    else:\n",
        "        return \"headlamps\".upper()\n",
        "\n",
        "# Add title on the main page and in the sidebar.\n",
        "st.title(\"Glass Type prediction Web app\")\n",
        "st.sidebar.title(\"Glass Type prediction Web app\")\n",
        "\n",
        "if st.sidebar.checkbox(\"Show raw data\"):\n",
        "    st.subheader(\"Glass Type Data set\")\n",
        "    st.dataframe(glass_df)"
      ],
      "execution_count": null,
      "outputs": []
    },
    {
      "cell_type": "markdown",
      "metadata": {
        "id": "Q3dfbgEYRC3t"
      },
      "source": [
        "---"
      ]
    },
    {
      "cell_type": "markdown",
      "metadata": {
        "id": "Y-dZlbcq-pts"
      },
      "source": [
        "#### Activity 1: Displaying Charts\n",
        "\n",
        "You can display any `matplotlib` or `seaborn` plots as Streamlit supports many visualisation frameworks. For our web app, we will be display the following plots:\n",
        "\n",
        "1. Correlation heatmap\n",
        "2. Line chart\n",
        "3. Area chart\n",
        "4. Count plot\n",
        "5. Pie chart\n",
        "6. Box plot\n",
        "\n",
        "Let us add a drop-down list that allows a user to select multiple options. The user will select which visualisation tool is to be plotted to perform data analysis. It should look like this:\n",
        "\n",
        "<center><img src=\"https://s3-whjr-v2-prod-bucket.whjr.online/40a15bcb-1459-4dce-91d5-e3826ffd1854.gif\"></center>\n",
        "\n",
        "To select multiple values from a drop-down list, we use **multiselect** widget of Streamlit. It returns a list of selected options.\n",
        "\n",
        "**Syntax:** `st.multiselect(label, (options))`\n",
        "\n",
        "Here,\n",
        "  - `label`: A short label explaining to the user what this widget is for.\n",
        "  - `(options)`: Options that will go into the drop-down. These options are provided either in the form of a `list` or in the form of a `tuple`.\n",
        "\n",
        "Let us now add a multiselect widget in the sidebar that will allow us to choose multiple visualisation tool.\n",
        "\n",
        "**Note:** Don't run the code shown below. It will throw an error.\n"
      ]
    },
    {
      "cell_type": "code",
      "metadata": {
        "id": "vV3-ePttN07b"
      },
      "source": [
        "# S1.1: Add a multiselect widget to allow the user to select multiple visualisation.\n",
        "st.sidebar.subheader(\"Visualisation Selector\")\n",
        "plot_list = st.sidebar.multiselect(\"Select the Charts/Plots:\",\n",
        "                                   ('Correlation Heatmap', 'Line Chart', 'Area Chart', 'Count Plot','Pie Chart', 'Box Plot'))"
      ],
      "execution_count": null,
      "outputs": []
    },
    {
      "cell_type": "markdown",
      "metadata": {
        "id": "_qTlzSJMNzKb"
      },
      "source": [
        "In the above code, the variable `plot_list` holds a list of selected options.\n",
        "\n",
        "Based on the selected option, the corresponding plot must be displayed. For this, we will use `if` statement and `in` keyword to check if a plot exists in the `plot_list` list in the following way:\n",
        "```python\n",
        "if 'Correlation Heatmap' in plot_list:\n",
        "  # plot correlation heatmap\n",
        "if 'Line Chart' in plot_list:\n",
        "  # plot line chart\n",
        "if 'Area Chart' in plot_list:\n",
        "  # plot area chart\n",
        "if 'Count Plot' in plot_list:\n",
        "  # plot count plot\n",
        "if 'Pie Chart' in plot_list:\n",
        "  # plot pie chart\n",
        "if 'Box Plot' in plot_list:\n",
        "  # plot box plot\n",
        "```\n",
        "\n",
        "**Note:** The plot type specified in the `if` statement must be exactly same as the one specified in the options of the multiselect. Otherwise, you will not get the desired output. For e.g:\n",
        "\n",
        "<img src=\"https://s3-whjr-v2-prod-bucket.whjr.online/55f46b08-441c-4b9d-b3be-7c8510376d98.png\">\n",
        "\n",
        "\n",
        "Let us first learn how to display charts with Streamlit.\n"
      ]
    },
    {
      "cell_type": "markdown",
      "metadata": {
        "id": "tlFHxC-uk2b7"
      },
      "source": [
        "##### **Visualisation using Streamlit**\n",
        "\n",
        "Streamlit supports several charting libraries like `matplotlib` and `seaborn`. However, there are few chart types that can be created using in-built Streamlit functions. Two of them are:\n",
        "\n",
        "**1. `st.line_chart():`**\n",
        "  - Used to display line charts.\n",
        "  - Syntax: `st.line_chart(data)` where `data` is the DataFrame to be plotted.\n",
        "\n",
        "**2. `st.area_chart():`**\n",
        "  - Used to display area charts.\n",
        "  - Syntax: `st.area_chart(data)` where `data` is the DataFrame to be plotted.\n",
        "\n",
        "Let us display the line chart and area chart for our `glass_df` DataFrame.\n",
        "\n",
        "**Note:** Don't run the code shown below. It will throw an error."
      ]
    },
    {
      "cell_type": "code",
      "metadata": {
        "id": "8pMoufMY5z0w"
      },
      "source": [
        "# S1.2: Display Streamlit native line chart and area chart\n",
        "\n",
        "# Display line chart\n",
        "if 'Line Chart' in plot_list:\n",
        "\tst.subheader(\"Line Chart\")\n",
        "\tst.line_chart(glass_df)\n",
        "\n",
        "# Display area chart\n",
        "if 'Area Chart' in plot_list:\n",
        "\tst.subheader(\"Area Chart\")\n",
        "\tst.area_chart(glass_df)"
      ],
      "execution_count": null,
      "outputs": []
    },
    {
      "cell_type": "markdown",
      "metadata": {
        "id": "kjvhaopGWPZg"
      },
      "source": [
        "In the above code, the line chart and area chart along with the subheaders will be plotted only when the user selects them from the multiselect widget.\n",
        "\n",
        "However, you can display any `matplotlib` and `seaborn` plots using **`st.pyplot()`** function. For example, to display a `matplotlib` pie chart for `glass_df` DataFrame, we will write the following code:\n",
        "\n",
        "```python\n",
        "pie_data = glass_df['GlassType'].value_counts()\n",
        "plt.pie(pie_data, labels = pie_data.index, autopct = '%1.2f%%', startangle = 30, explode = np.linspace(.06, .12, 6))\n",
        "st.pyplot()\n",
        "```\n",
        "\n",
        "You can think of `st.pyplot()` as an equivalent to `plt.show()`.\n",
        "\n",
        "Similarly, let us display the following plots for `glass_df` DataFrame:\n",
        "\n",
        "- Correlation Heatmap\n",
        "\n",
        "- Count plot\n",
        "\n",
        "- Pie chart\n",
        "\n",
        "**Note:** While using the `st.pyplot()` function, you will get `\"Deprecation warning\"` message on your webpage. To remove that warning, add the following line before using `st.pyplot()`:\n",
        "\n",
        "> `st.set_option('deprecation.showPyplotGlobalUse', False)`\n",
        "\n",
        "**Note:** Don't run the code shown below. It will throw an error."
      ]
    },
    {
      "cell_type": "code",
      "metadata": {
        "id": "TtpVs1kTWOo4"
      },
      "source": [
        "# S1.3: Display the plots when the user selects them using multiselect widget.\n",
        "st.set_option('deprecation.showPyplotGlobalUse', False)\n",
        "\n",
        "# g and 'st.pyplot()'\n",
        "if 'Correlation Heatmap' in plot_list:\n",
        "    st.subheader(\"Correlation Heatmap\")\n",
        "    plt.figure(figsize = (9, 5))\n",
        "    sns.heatmap(glass_df.corr(), annot = True)\n",
        "    st.pyplot()\n",
        "\n",
        "# Display count plot using seaborn module and 'st.pyplot()'\n",
        "if 'Count Plot' in plot_list:\n",
        "    st.subheader(\"Count plot\")\n",
        "    sns.countplot(x = 'GlassType', data = glass_df)\n",
        "    st.pyplot()\n",
        "\n",
        "# Display pie chart using matplotlib module and 'st.pyplot()'\n",
        "if 'Pie Chart' in plot_list:\n",
        "    st.subheader(\"Pie Chart\")\n",
        "    pie_data = glass_df['GlassType'].value_counts()\n",
        "    plt.figure(figsize = (5, 5))\n",
        "    plt.pie(pie_data, labels = pie_data.index, autopct = '%1.2f%%',\n",
        "            startangle = 30, explode = np.linspace(.06, .12, 6))\n",
        "    st.pyplot()"
      ],
      "execution_count": null,
      "outputs": []
    },
    {
      "cell_type": "markdown",
      "metadata": {
        "id": "IgnEWgZ9nUQx"
      },
      "source": [
        "In the above code, observe that `st.pyplot()` is used after every plot/chart. If it is not specified after creating a plot, then that plot object will  reside in memory but it won't be rendered on the screen.\n",
        "\n",
        "**Displaying Box plot:**\n",
        "\n",
        "Recall the syntax for creating box plot using `seaborn` module:\n",
        "\n",
        " `sns.boxplot(DataFrame[column_name])`\n",
        "\n",
        "For displaying the box plot for a particular column, we will ask the user to select that column from a drop-down in the sidebar. This selected column will then be passed inside the `sns.boxplot()` function. It will look like this:\n",
        "\n",
        "<center>\n",
        "<img src=\"https://s3-whjr-v2-prod-bucket.whjr.online/4c492214-74c9-4754-b0e0-973b2cb879f8.gif\"/>\n",
        "\n",
        "</center>\n",
        "\n",
        "To add such a drop-down where the user can select only one option, we use **selectbox** widget of Streamlit.\n",
        "\n",
        "\n",
        "**Syntax:** `st.selectbox(label, (options))`\n",
        "\n",
        "Here,\n",
        "  - `label`: A short label explaining to the user what this widget is for.\n",
        "  - `(options)`: Options that will go into the drop-down. These options are either provided in the form of a `list` or in the form of a `tuple`.\n",
        "\n",
        "Unlike multiselect widget, the selectbox widget returns only a single value.\n",
        "\n",
        "Let us add this selectbox widget, populate it with all the column names and also display the box plot for the corresponding column.\n",
        "\n",
        "**Note:** Don't run the code shown below. It will throw an error."
      ]
    },
    {
      "cell_type": "code",
      "metadata": {
        "id": "BDHU-Sq-nXyR"
      },
      "source": [
        "# S1.4: Display box plot using matplotlib module and 'st.pyplot()'\n",
        "if 'Box Plot' in plot_list:\n",
        "\tst.subheader(\"Box Plot\")\n",
        "\tcolumn = st.sidebar.selectbox(\"Select the column for boxplot\",('RI', 'Na', 'Mg', 'Al', 'Si', 'K', 'Ca', 'Ba', 'Fe', 'GlassType'))\n",
        "\tsns.boxplot(glass_df[column])\n",
        "\tst.pyplot()"
      ],
      "execution_count": null,
      "outputs": []
    },
    {
      "cell_type": "markdown",
      "metadata": {
        "id": "KvjkFHWPj1TM"
      },
      "source": [
        "In the above code, the `column` variable holds the column selected by user for which the box plot is to be plotted.\n",
        "\n",
        "After adding the code for all the 6 plots, the app can be visualised as follows:\n",
        "\n",
        "<center><img src=\"https://s3-whjr-v2-prod-bucket.whjr.online/3b4f68e2-6859-4dc7-8f42-eea868a2294e.gif\"></center>"
      ]
    },
    {
      "cell_type": "markdown",
      "metadata": {
        "id": "K3MJqlpJDy4-"
      },
      "source": [
        "---"
      ]
    },
    {
      "cell_type": "markdown",
      "metadata": {
        "id": "vHSZO5BNREUL"
      },
      "source": [
        "#### Activity 2: Adding Slider Widgets\n",
        "\n",
        "\n",
        "Next step is to collect user input for making new prediction. As all the 9 features (`'RI'`, `'Na'`, `'Mg'`, `'Al'`, `'Si'`, `'K'`, `'Ca'`, `'Ba'`, `'Fe'`) are numerical, we will use slider widgets to accept the values of these features from the user. By dragging the slider left or right, the user can dynamically choose the values of the features.\n",
        "\n",
        "<center>\n",
        "<img src=\"https://s3-whjr-v2-prod-bucket.whjr.online/dd135d1a-b6e9-45f3-a74e-147410b7d898.gif\"/></center>\n",
        "\n",
        "To add a slider widget, use the following syntax:\n",
        "\n",
        "`st.slider(label, min_value, max_value)`\n",
        "\n",
        "Here,\n",
        " - `label`:  A short label explaining to the user what this slider is for.\n",
        " - `min_value`: The minimum value. If this parameter is not specified, the default value is `0` in case of integer values and `0.0` in case of float values.\n",
        " - `max_value`: The maximum value. If this parameter is not specified, the default value is `100` in case of integer values and `1.0` in case of float values.\n",
        "\n",
        "\n",
        "Now, add 9 sliders for all the 9 features and store their return values in following 9 different variables: `ri, na, mg, al, si, k, ca, ba, fe `.\n",
        "\n",
        "**Note:**\n",
        " - The minimum and maximum values for these sliders would be the corresponding minimum and maximum values of that particular feature.\n",
        " - Don't run the code shown below. It will throw an error."
      ]
    },
    {
      "cell_type": "code",
      "metadata": {
        "id": "A_eg0zhMJ4DR"
      },
      "source": [
        "# S2.1: Add 9 slider widgets for accepting user input for 9 features.\n",
        "st.sidebar.subheader(\"Select your values:\")\n",
        "ri = st.sidebar.slider(\"Input Ri\", float(glass_df['RI'].min()), float(glass_df['RI'].max()))\n",
        "na = st.sidebar.slider(\"Input Na\", float(glass_df['Na'].min()), float(glass_df['Na'].max()))\n",
        "mg = st.sidebar.slider(\"Input Mg\", float(glass_df['Mg'].min()), float(glass_df['Mg'].max()))\n",
        "al = st.sidebar.slider(\"Input Al\", float(glass_df['Al'].min()), float(glass_df['Al'].max()))\n",
        "si = st.sidebar.slider(\"Input Si\", float(glass_df['Si'].min()), float(glass_df['Si'].max()))\n",
        "k = st.sidebar.slider(\"Input K\", float(glass_df['K'].min()), float(glass_df['K'].max()))\n",
        "ca = st.sidebar.slider(\"Input Ca\", float(glass_df['Ca'].min()), float(glass_df['Ca'].max()))\n",
        "ba = st.sidebar.slider(\"Input Ba\", float(glass_df['Ba'].min()), float(glass_df['Ba'].max()))\n",
        "fe = st.sidebar.slider(\"Input Fe\", float(glass_df['Fe'].min()), float(glass_df['Fe'].max()))"
      ],
      "execution_count": null,
      "outputs": []
    },
    {
      "cell_type": "markdown",
      "metadata": {
        "id": "BAbglIPMMVCT"
      },
      "source": [
        "After adding the above Streamlit code and rerunning the entire app, it will look like this:\n",
        "\n",
        "<center>\n",
        "<img src=\"https://s3-whjr-v2-prod-bucket.whjr.online/ec334fc2-3633-4d05-8c3c-a0f47b701ee5.gif\"/>"
      ]
    },
    {
      "cell_type": "markdown",
      "metadata": {
        "id": "rNKW5vIvNeDn"
      },
      "source": [
        "---"
      ]
    },
    {
      "cell_type": "markdown",
      "metadata": {
        "id": "2YIVAamNTLU3"
      },
      "source": [
        "#### Activity 3: Choosing the Classifier\n",
        "\n",
        "Once the user has selected the desired value of all the features, the next step would be to choose the classifer. For our app, we are using three classifiers, namely Support Vector Machines, Random Forest Classifier and Logistic Regression.\n",
        "\n",
        "For our app, we will use the **selectbox** widget to aid us in selecting the different classifiers that will be used in creating the machine learning model.\n",
        "\n",
        "<center><img src=\"https://s3-whjr-v2-prod-bucket.whjr.online/f6406174-0ef3-42c3-a429-fd68a3a3a118.PNG\"></center>\n",
        "\n",
        "\n",
        "Let us now add a selectbox widget below the sliders that will allow us to choose the classifier to be implemented.\n",
        "\n",
        "**Note:** Don't run the code shown below. It will throw an error."
      ]
    },
    {
      "cell_type": "code",
      "metadata": {
        "id": "R58xKRPvV3aU"
      },
      "source": [
        "# S3.1: Add a subheader and multiselect widget.\n",
        "st.sidebar.subheader(\"Choose Classifier\")\n",
        "classifier = st.sidebar.selectbox(\"Classifier\",\n",
        "                                 ('Support Vector Machine', 'Random Forest Classifier', 'Logistic Regression'))\n"
      ],
      "execution_count": null,
      "outputs": []
    },
    {
      "cell_type": "markdown",
      "metadata": {
        "id": "6qMezP5QzoAZ"
      },
      "source": [
        "In the above code, the variable `classifier` holds the name of the user selected classifier. Thus,\n",
        "  - If `classifier == 'Support Vector Machine'`, implement SVM classifier\n",
        "  - If `classifier == 'Random Forest Classifier'`, implement Random Forest classifier\n",
        "  - If `classifier == 'Logistic Regression'`, implement Logistic Regression classifier"
      ]
    },
    {
      "cell_type": "markdown",
      "metadata": {
        "id": "SYY1NKDFX1io"
      },
      "source": [
        "---"
      ]
    },
    {
      "cell_type": "markdown",
      "metadata": {
        "id": "qPoeRaU0TcXv"
      },
      "source": [
        "#### Activity 4: Implementing SVM with Hyperparameter Tuning\n",
        "\n",
        "In one of the previous classes, we learned the process of Hyperparameter tuning for SVM. We learned how the values of hyperparameters i.e. `C`, `kernel` and `gamma` are optimised so that the model can make accurate predictions.\n",
        "\n",
        "For our app, we will allow the user to adjust the values of these hyperparameters using various Streamlit widgets.\n",
        "\n",
        "For SVM, the front-end for hyperparameter tuning must look like this:\n",
        "<center><img src=\"https://s3-whjr-v2-prod-bucket.whjr.online/944cbc3c-e309-4f3b-a0a9-19db8a27ddd0.PNG\"/></center>\n",
        "\n",
        "For creating the above user interface, we will use the following Streamlit widgets:\n",
        "\n",
        "1. `st.number_input(label, min_value, max_value):`  Displays a numeric input widget. Here,\n",
        "    - `label`: A short label explaining to the user what this input is for.\n",
        "    - `min_value`: The minimum value. If not specified, then there will be no minimum.\n",
        "    - `max_value`: The maximum value. If not specified, then there will be no maximum.\n",
        "    \n",
        "   We will use this widget to enable the user to input the error rate i.e `C` and `gamma` value.\n",
        "\n",
        "2. `st.radio(label, (options))`: Displays a radio button widget, where the user can select only one option from a set of options. Here,\n",
        "    - `label`: A short label explaining to the user what this radio group is for.\n",
        "    - `(options)`: Labels for the radio options. These options are either provided in the form of a `list` or in the form of a `tuple`.\n",
        "  \n",
        "   We will use this widget to enable the user to choose the desired `kernel` for implementing SVM model.\n",
        "\n",
        "3. `st.button(label)`: Displays a button widget. Here,\n",
        "   - `label` is a short label explaining to the user what this button is for.\n",
        "   We will use this widget to create a button labeled `Classify`.\n",
        "\n",
        "When the user clicks on `Classify` button, following tasks must be performed:\n",
        " - The object of `SVC` class must be created based on the hyperparameter values selected by user.\n",
        " - The model should be trained and accuracy score must be calculated.\n",
        " - The glass type must be predicted based on the feature values selected by user.\n",
        " - The confusion matrix must be plotted.\n",
        "\n",
        "To plot confusion matrix, we will import `plot_confusion_matrix` module from the `sklearn.metrics` module.\n",
        "\n",
        "**Syntax:**\n",
        "```\n",
        "from sklearn.metrics import plot_confusion_matrix\n",
        "plot_confusion_matrix(model, x, y)\n",
        "```\n",
        "Here,\n",
        " - `model` is the fitted classifier object.\n",
        " - `x` is the feature values array.\n",
        " - `y` is the target value array.\n",
        "\n",
        "Follow the steps given below to implement SVM with hyperparameter tuning:\n",
        "\n",
        "- Import `plot_confusion_matrix` function from `sklearn.metrics` module.\n",
        "\n",
        "- If `classifier == 'Support Vector Machine'`\n",
        "\n",
        "   1. Display a subheader with label `\"Model Hyperparameters:\"` in the sidebar.\n",
        "   \n",
        "   2. Accept the value of hyperparameters i.e `C` and `gamma` using `st.sidebar.number_input()` function and `kernel` using `st.sidebar.radio()` function. The default mininum values of `C` and `gamma` should be 1.\n",
        "   \n",
        "   3. Store the current value of these hyperparameters in three different variables `c_value`, `kernel_input` and `gamma_input`.\n",
        "   \n",
        "   4. If the user clicks on `Classify` button created in sidebar:\n",
        "      - Create an object of `SVC` class and store it in a variable, say `svc_model`. Pass the hyperparameter values to its constructor as follows:\n",
        "      ```python\n",
        "        SVC(C = c_value, kernel = kernel_input, gamma = gamma_input)\n",
        "      ```\n",
        "      - Call the `fit()` function on `SVC` object created above with the train set as inputs.\n",
        "      - Determine the accuracy of the model by calling the `score()` function on the test set.\n",
        "      - Call the `prediction()` function and pass the `SVC` object i.e `svc_model` and input widgets values to this function. Store the glass type returned by this function in the `glass_type` variable.\n",
        "      - Print the predicted glass type (`glass_type`) and accuracy score of the model.\n",
        "      - Call `plot_confusion_matrix` function with `svc_model` and test set as inputs. Use `st.pyplot()` after `plot_confusion_matrix()` function, otherwise the confusion matrix will not be plotted.\n",
        "\n",
        "**Note:** Don't run the code shown below. It will throw an error."
      ]
    },
    {
      "cell_type": "code",
      "metadata": {
        "id": "tE2T9zYn4YKO"
      },
      "source": [
        "# S4.1: Implement SVM with hyperparameter tuning\n",
        "from sklearn.metrics import plot_confusion_matrix\n",
        "\n",
        "if classifier == 'Support Vector Machine':\n",
        "    st.sidebar.subheader(\"Model Hyperparameters\")\n",
        "    c_value = st.sidebar.number_input(\"C (Error Rate)\", 1, 100, step = 1)\n",
        "    kernel_input = st.sidebar.radio(\"Kernel\", (\"linear\", \"rbf\", \"poly\"))\n",
        "    gamma_input = st. sidebar.number_input(\"Gamma\", 1, 100, step = 1)\n",
        "\n",
        "    # If the user clicks 'Classify' button, perform prediction and display accuracy score and confusion matrix.\n",
        "    # This 'if' statement must be inside the above 'if' statement.\n",
        "    if st.sidebar.button('Classify'):\n",
        "        st.subheader(\"Support Vector Machine\")\n",
        "        svc_model=SVC(C = c_value, kernel = kernel_input, gamma = gamma_input)\n",
        "        svc_model.fit(X_train,y_train)\n",
        "        y_pred = svc_model.predict(X_test)\n",
        "        accuracy = svc_model.score(X_test, y_test)\n",
        "        glass_type = prediction(svc_model, ri, na, mg, al, si, k, ca, ba, fe)\n",
        "        st.write(\"The Type of glass predicted is:\", glass_type)\n",
        "        st.write(\"Accuracy\", accuracy.round(2))\n",
        "        plot_confusion_matrix(svc_model, X_test, y_test)\n",
        "        st.pyplot()"
      ],
      "execution_count": null,
      "outputs": []
    },
    {
      "cell_type": "markdown",
      "metadata": {
        "id": "GuRRbkaEunX-"
      },
      "source": [
        "After adding the above Streamlit code and rerunning the entire app, it will look like this:\n",
        "<center>\n",
        "<img src=\"https://s3-whjr-v2-prod-bucket.whjr.online/c7aed461-cfb8-4eaf-b14a-b53c06ae953c.PNG\"/></center>\n",
        "\n",
        "In the above app, the user can adjust the hyperparameter values to achieve the desired accuracy.\n",
        "\n",
        "Similarly, let us implement the Random Forest Classifier where the user can play with different hyperparameter values and predict the label for the new data instances."
      ]
    },
    {
      "cell_type": "markdown",
      "metadata": {
        "id": "xNJaLh8q0gv5"
      },
      "source": [
        "---"
      ]
    },
    {
      "cell_type": "markdown",
      "metadata": {
        "id": "8qWm9trh0iMP"
      },
      "source": [
        "#### Activity 5: Implementing Random Forest Classifier with Hyperparameter Tuning\n",
        "\n",
        "For Random Forest, the front-end for hyperparameter tuning must look like this:\n",
        "\n",
        "<center><img src=\"https://s3-whjr-v2-prod-bucket.whjr.online/dfa2f4ee-b538-4464-ba17-01ca307ee7a6.PNG\"></center>\n",
        "\n",
        "Recall the syntax for creating object of Random forest classifier:\n",
        "\n",
        "`RandomForestClassifier(n_estimators, max_depth, n_jobs = -1)`\n",
        "\n",
        "where,\n",
        "   - `n_estimators` is the number of trees in the forest.\n",
        "   - `max_depth` is the maximum depth of each tree.\n",
        "   - `n_jobs = - 1`. For the time being, ignore the reason behind providing the `n_jobs = -1` parameter as an input.\n",
        "\n",
        "For our app, we will ask the user to input the `n_estimators` and `max_depth` values using `st.number_input()` widget.\n",
        "\n",
        "When the user clicks on `Classify` button, the set of tasks that must be performed is same as that performed for SVM classsifer.\n",
        "\n",
        "Follow the steps given below to implement Random Forest Classifier with hyperparameter tuning:\n",
        "\n",
        "- If `classifier == 'Random Forest Classifier'`,\n",
        "  \n",
        "  1. Display a subheader with label `\"Model Hyperparameters:\"` in the sidebar.\n",
        "  \n",
        "  2. Accept the value of hyperparameters i.e `n_estimators` and `max_depth` using `st.sidebar.number_input()` function. Consider the minimum and maximum values for `n_estimators` to be `100` and `5000` respectively. Consider the minimum and maximum values for `max_depth` to be `1` and `20` respectively.\n",
        "  \n",
        "  3. Store the current value of these hyperparameters in two different variables `n_estimators_input` and `max_depth_input`.\n",
        "  \n",
        "  4. If the user clicks on `Classify` button created in sidebar:\n",
        "     \n",
        "     - Create an object of `RandomForestClassifier` class and store it in a variable, say `rf_clf`. Pass the hyperparameter values to its constructor as follows:\n",
        "      ```python\n",
        "      RandomForestClassifier(n_estimators = n_estimators_input, max_depth=max_depth_input, n_jobs = -1)\n",
        "      ```\n",
        "     - Call the `fit()` function on `RandomForestClassifier` object created above with the train set as inputs.\n",
        "     - Determine the accuracy of the model by calling the `score()` function on the test set.\n",
        "     - Call the `prediction()` function and pass the `RandomForestClassifier` object i.e `rf_clf` and input widgets values to this function. Store the glass type returned by this function in the `glass_type` variable.\n",
        "     - Print the predicted glass type (`glass_type`) and accuracy score of the model.\n",
        "     - Call `plot_confusion_matrix` function with `rfc_model` and test set as inputs. Use `st.pyplot()` after `plot_confusion_matrix()` function.\n",
        "\n",
        "**Note:** Don't run the code shown below. It will throw an error."
      ]
    },
    {
      "cell_type": "code",
      "metadata": {
        "id": "3shme4mB4gMR"
      },
      "source": [
        "# S5.1: ImplementRandom Forest Classifier with hyperparameter tuning.\n",
        "if classifier =='Random Forest Classifier':\n",
        "    st.sidebar.subheader(\"Model Hyperparameters\")\n",
        "    n_estimators_input = st.sidebar.number_input(\"Number of trees in the forest\", 100, 5000, step = 10)\n",
        "    max_depth_input = st.sidebar.number_input(\"Maximum depth of the tree\", 1, 100, step = 1)\n",
        "\n",
        "    # If the user clicks 'Classify' button, perform prediction and display accuracy score and confusion matrix.\n",
        "    # This 'if' statement must be inside the above 'if' statement.\n",
        "    if st.sidebar.button('Classify'):\n",
        "        st.subheader(\"Random Forest Classifier\")\n",
        "        rf_clf= RandomForestClassifier(n_estimators = n_estimators_input, max_depth = max_depth_input, n_jobs = -1)\n",
        "        rf_clf.fit(X_train,y_train)\n",
        "        accuracy = rf_clf.score(X_test, y_test)\n",
        "        glass_type = prediction(rf_clf, ri, na, mg, al, si, k, ca, ba, fe)\n",
        "        st.write(\"The Type of glass predicted is:\", glass_type)\n",
        "        st.write(\"Accuracy\", accuracy.round(2))\n",
        "        plot_confusion_matrix(rf_clf, X_test, y_test)\n",
        "        st.pyplot()"
      ],
      "execution_count": null,
      "outputs": []
    },
    {
      "cell_type": "markdown",
      "metadata": {
        "id": "7fnMkWhTNXW4"
      },
      "source": [
        "After adding the above Streamlit code and rerunning the entire app, it will look like this:\n",
        "<center>\n",
        "<img src=\"https://s3-whjr-v2-prod-bucket.whjr.online/abe0cc6d-364f-4034-bf3d-97d6a540effa.PNG\"/></center>\n",
        "\n",
        "In the above app, the user can adjust the hyperparameter values to achieve the desired accuracy.\n",
        "\n",
        "Note : You can download the entire glass_type_app.py file from the link given below:\n",
        "\n",
        "\n",
        "\n",
        "\n",
        "Let's stop here. You will learn to add Logistic Regression classifier as well in the next class. Further, you can host the web app on Streamlit Sharing or Heroku using the process you learnt in the previous classes."
      ]
    },
    {
      "cell_type": "markdown",
      "metadata": {
        "id": "b_skN5wcHosw"
      },
      "source": [
        "---"
      ]
    }
  ]
}